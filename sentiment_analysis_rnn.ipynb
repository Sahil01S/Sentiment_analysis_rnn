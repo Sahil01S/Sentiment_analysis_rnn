{
  "nbformat": 4,
  "nbformat_minor": 0,
  "metadata": {
    "colab": {
      "provenance": [],
      "authorship_tag": "ABX9TyPYulUOBeNw03Q7dKGoYfo+",
      "include_colab_link": true
    },
    "kernelspec": {
      "name": "python3",
      "display_name": "Python 3"
    },
    "language_info": {
      "name": "python"
    }
  },
  "cells": [
    {
      "cell_type": "markdown",
      "metadata": {
        "id": "view-in-github",
        "colab_type": "text"
      },
      "source": [
        "<a href=\"https://colab.research.google.com/github/Sahil01S/Sentiment_analysis_rnn/blob/main/sentiment_analysis_rnn.ipynb\" target=\"_parent\"><img src=\"https://colab.research.google.com/assets/colab-badge.svg\" alt=\"Open In Colab\"/></a>"
      ]
    },
    {
      "cell_type": "code",
      "source": [
        "\n",
        "import numpy as np # linear algebra\n",
        "import pandas as pd # data processing, CSV file I/O (e.g. pd.read_csv)"
      ],
      "metadata": {
        "id": "d_Yc6ETWuD1e"
      },
      "execution_count": null,
      "outputs": []
    },
    {
      "cell_type": "code",
      "source": [
        "from google.colab import files\n",
        "uploaded = files.upload()\n"
      ],
      "metadata": {
        "colab": {
          "base_uri": "https://localhost:8080/",
          "height": 142
        },
        "id": "_RhAJ3IEuGbV",
        "outputId": "99fc349e-e1e6-43b7-fb44-8ccfe152a4ab"
      },
      "execution_count": null,
      "outputs": [
        {
          "output_type": "display_data",
          "data": {
            "text/plain": [
              "<IPython.core.display.HTML object>"
            ],
            "text/html": [
              "\n",
              "     <input type=\"file\" id=\"files-c20427b1-0e75-4f5a-b6f5-058c02ed5b39\" name=\"files[]\" multiple disabled\n",
              "        style=\"border:none\" />\n",
              "     <output id=\"result-c20427b1-0e75-4f5a-b6f5-058c02ed5b39\">\n",
              "      Upload widget is only available when the cell has been executed in the\n",
              "      current browser session. Please rerun this cell to enable.\n",
              "      </output>\n",
              "      <script>// Copyright 2017 Google LLC\n",
              "//\n",
              "// Licensed under the Apache License, Version 2.0 (the \"License\");\n",
              "// you may not use this file except in compliance with the License.\n",
              "// You may obtain a copy of the License at\n",
              "//\n",
              "//      http://www.apache.org/licenses/LICENSE-2.0\n",
              "//\n",
              "// Unless required by applicable law or agreed to in writing, software\n",
              "// distributed under the License is distributed on an \"AS IS\" BASIS,\n",
              "// WITHOUT WARRANTIES OR CONDITIONS OF ANY KIND, either express or implied.\n",
              "// See the License for the specific language governing permissions and\n",
              "// limitations under the License.\n",
              "\n",
              "/**\n",
              " * @fileoverview Helpers for google.colab Python module.\n",
              " */\n",
              "(function(scope) {\n",
              "function span(text, styleAttributes = {}) {\n",
              "  const element = document.createElement('span');\n",
              "  element.textContent = text;\n",
              "  for (const key of Object.keys(styleAttributes)) {\n",
              "    element.style[key] = styleAttributes[key];\n",
              "  }\n",
              "  return element;\n",
              "}\n",
              "\n",
              "// Max number of bytes which will be uploaded at a time.\n",
              "const MAX_PAYLOAD_SIZE = 100 * 1024;\n",
              "\n",
              "function _uploadFiles(inputId, outputId) {\n",
              "  const steps = uploadFilesStep(inputId, outputId);\n",
              "  const outputElement = document.getElementById(outputId);\n",
              "  // Cache steps on the outputElement to make it available for the next call\n",
              "  // to uploadFilesContinue from Python.\n",
              "  outputElement.steps = steps;\n",
              "\n",
              "  return _uploadFilesContinue(outputId);\n",
              "}\n",
              "\n",
              "// This is roughly an async generator (not supported in the browser yet),\n",
              "// where there are multiple asynchronous steps and the Python side is going\n",
              "// to poll for completion of each step.\n",
              "// This uses a Promise to block the python side on completion of each step,\n",
              "// then passes the result of the previous step as the input to the next step.\n",
              "function _uploadFilesContinue(outputId) {\n",
              "  const outputElement = document.getElementById(outputId);\n",
              "  const steps = outputElement.steps;\n",
              "\n",
              "  const next = steps.next(outputElement.lastPromiseValue);\n",
              "  return Promise.resolve(next.value.promise).then((value) => {\n",
              "    // Cache the last promise value to make it available to the next\n",
              "    // step of the generator.\n",
              "    outputElement.lastPromiseValue = value;\n",
              "    return next.value.response;\n",
              "  });\n",
              "}\n",
              "\n",
              "/**\n",
              " * Generator function which is called between each async step of the upload\n",
              " * process.\n",
              " * @param {string} inputId Element ID of the input file picker element.\n",
              " * @param {string} outputId Element ID of the output display.\n",
              " * @return {!Iterable<!Object>} Iterable of next steps.\n",
              " */\n",
              "function* uploadFilesStep(inputId, outputId) {\n",
              "  const inputElement = document.getElementById(inputId);\n",
              "  inputElement.disabled = false;\n",
              "\n",
              "  const outputElement = document.getElementById(outputId);\n",
              "  outputElement.innerHTML = '';\n",
              "\n",
              "  const pickedPromise = new Promise((resolve) => {\n",
              "    inputElement.addEventListener('change', (e) => {\n",
              "      resolve(e.target.files);\n",
              "    });\n",
              "  });\n",
              "\n",
              "  const cancel = document.createElement('button');\n",
              "  inputElement.parentElement.appendChild(cancel);\n",
              "  cancel.textContent = 'Cancel upload';\n",
              "  const cancelPromise = new Promise((resolve) => {\n",
              "    cancel.onclick = () => {\n",
              "      resolve(null);\n",
              "    };\n",
              "  });\n",
              "\n",
              "  // Wait for the user to pick the files.\n",
              "  const files = yield {\n",
              "    promise: Promise.race([pickedPromise, cancelPromise]),\n",
              "    response: {\n",
              "      action: 'starting',\n",
              "    }\n",
              "  };\n",
              "\n",
              "  cancel.remove();\n",
              "\n",
              "  // Disable the input element since further picks are not allowed.\n",
              "  inputElement.disabled = true;\n",
              "\n",
              "  if (!files) {\n",
              "    return {\n",
              "      response: {\n",
              "        action: 'complete',\n",
              "      }\n",
              "    };\n",
              "  }\n",
              "\n",
              "  for (const file of files) {\n",
              "    const li = document.createElement('li');\n",
              "    li.append(span(file.name, {fontWeight: 'bold'}));\n",
              "    li.append(span(\n",
              "        `(${file.type || 'n/a'}) - ${file.size} bytes, ` +\n",
              "        `last modified: ${\n",
              "            file.lastModifiedDate ? file.lastModifiedDate.toLocaleDateString() :\n",
              "                                    'n/a'} - `));\n",
              "    const percent = span('0% done');\n",
              "    li.appendChild(percent);\n",
              "\n",
              "    outputElement.appendChild(li);\n",
              "\n",
              "    const fileDataPromise = new Promise((resolve) => {\n",
              "      const reader = new FileReader();\n",
              "      reader.onload = (e) => {\n",
              "        resolve(e.target.result);\n",
              "      };\n",
              "      reader.readAsArrayBuffer(file);\n",
              "    });\n",
              "    // Wait for the data to be ready.\n",
              "    let fileData = yield {\n",
              "      promise: fileDataPromise,\n",
              "      response: {\n",
              "        action: 'continue',\n",
              "      }\n",
              "    };\n",
              "\n",
              "    // Use a chunked sending to avoid message size limits. See b/62115660.\n",
              "    let position = 0;\n",
              "    do {\n",
              "      const length = Math.min(fileData.byteLength - position, MAX_PAYLOAD_SIZE);\n",
              "      const chunk = new Uint8Array(fileData, position, length);\n",
              "      position += length;\n",
              "\n",
              "      const base64 = btoa(String.fromCharCode.apply(null, chunk));\n",
              "      yield {\n",
              "        response: {\n",
              "          action: 'append',\n",
              "          file: file.name,\n",
              "          data: base64,\n",
              "        },\n",
              "      };\n",
              "\n",
              "      let percentDone = fileData.byteLength === 0 ?\n",
              "          100 :\n",
              "          Math.round((position / fileData.byteLength) * 100);\n",
              "      percent.textContent = `${percentDone}% done`;\n",
              "\n",
              "    } while (position < fileData.byteLength);\n",
              "  }\n",
              "\n",
              "  // All done.\n",
              "  yield {\n",
              "    response: {\n",
              "      action: 'complete',\n",
              "    }\n",
              "  };\n",
              "}\n",
              "\n",
              "scope.google = scope.google || {};\n",
              "scope.google.colab = scope.google.colab || {};\n",
              "scope.google.colab._files = {\n",
              "  _uploadFiles,\n",
              "  _uploadFilesContinue,\n",
              "};\n",
              "})(self);\n",
              "</script> "
            ]
          },
          "metadata": {}
        },
        {
          "output_type": "stream",
          "name": "stdout",
          "text": [
            "Saving train.tsv to train.tsv\n",
            "Saving test.tsv to test.tsv\n",
            "Saving sampleSubmission.csv to sampleSubmission.csv\n"
          ]
        }
      ]
    },
    {
      "cell_type": "code",
      "source": [],
      "metadata": {
        "id": "5pLBpQHJ4Rqa"
      },
      "execution_count": null,
      "outputs": []
    },
    {
      "cell_type": "code",
      "source": [],
      "metadata": {
        "id": "3_iav8er4cfn"
      },
      "execution_count": null,
      "outputs": []
    },
    {
      "cell_type": "code",
      "source": [
        "import pandas as pd\n",
        "\n",
        "# Load the training data\n",
        "train_df = pd.read_csv('train.tsv', sep='\\t')\n",
        "print(\"Training Data:\")\n",
        "print(train_df.head())\n",
        "\n",
        "# Load the test data\n",
        "test_df = pd.read_csv('test.tsv', sep='\\t')\n",
        "print(\"Test Data:\")\n",
        "print(test_df.head())\n",
        "\n",
        "# Load the sample submission data\n",
        "sample_submission_df = pd.read_csv('sampleSubmission.csv')\n",
        "print(\"Sample Submission Data:\")\n",
        "print(sample_submission_df.head())\n"
      ],
      "metadata": {
        "colab": {
          "base_uri": "https://localhost:8080/"
        },
        "id": "6ip6VtN6w6hF",
        "outputId": "6cc71a74-7601-4e31-b1b3-64039006e564"
      },
      "execution_count": null,
      "outputs": [
        {
          "output_type": "stream",
          "name": "stdout",
          "text": [
            "Training Data:\n",
            "   PhraseId  SentenceId                                             Phrase  \\\n",
            "0         1           1  A series of escapades demonstrating the adage ...   \n",
            "1         2           1  A series of escapades demonstrating the adage ...   \n",
            "2         3           1                                           A series   \n",
            "3         4           1                                                  A   \n",
            "4         5           1                                             series   \n",
            "\n",
            "   Sentiment  \n",
            "0          1  \n",
            "1          2  \n",
            "2          2  \n",
            "3          2  \n",
            "4          2  \n",
            "Test Data:\n",
            "   PhraseId  SentenceId                                             Phrase\n",
            "0    156061        8545  An intermittently pleasing but mostly routine ...\n",
            "1    156062        8545  An intermittently pleasing but mostly routine ...\n",
            "2    156063        8545                                                 An\n",
            "3    156064        8545  intermittently pleasing but mostly routine effort\n",
            "4    156065        8545         intermittently pleasing but mostly routine\n",
            "Sample Submission Data:\n",
            "   PhraseId  Sentiment\n",
            "0    156061          2\n",
            "1    156062          2\n",
            "2    156063          2\n",
            "3    156064          2\n",
            "4    156065          2\n"
          ]
        }
      ]
    },
    {
      "cell_type": "code",
      "source": [
        "!pip install gensim\n"
      ],
      "metadata": {
        "colab": {
          "base_uri": "https://localhost:8080/"
        },
        "id": "beSGR4DrxVpM",
        "outputId": "85bdb89d-a8b0-4eba-95ca-85704d2e1920"
      },
      "execution_count": null,
      "outputs": [
        {
          "output_type": "stream",
          "name": "stdout",
          "text": [
            "Requirement already satisfied: gensim in /usr/local/lib/python3.10/dist-packages (4.3.3)\n",
            "Requirement already satisfied: numpy<2.0,>=1.18.5 in /usr/local/lib/python3.10/dist-packages (from gensim) (1.26.4)\n",
            "Requirement already satisfied: scipy<1.14.0,>=1.7.0 in /usr/local/lib/python3.10/dist-packages (from gensim) (1.13.1)\n",
            "Requirement already satisfied: smart-open>=1.8.1 in /usr/local/lib/python3.10/dist-packages (from gensim) (7.0.4)\n",
            "Requirement already satisfied: wrapt in /usr/local/lib/python3.10/dist-packages (from smart-open>=1.8.1->gensim) (1.14.1)\n"
          ]
        }
      ]
    },
    {
      "cell_type": "code",
      "source": [
        "import pandas as pd\n",
        "from gensim.utils import simple_preprocess\n",
        "from gensim.parsing.preprocessing import remove_stopwords\n",
        "\n",
        "\n",
        "# Convert all entries to string type\n",
        "train_df['Phrase'] = train_df['Phrase'].astype(str)\n",
        "test_df['Phrase'] = test_df['Phrase'].astype(str)\n"
      ],
      "metadata": {
        "id": "dRMXPbaUxX4c"
      },
      "execution_count": null,
      "outputs": []
    },
    {
      "cell_type": "code",
      "source": [
        "# Fill missing values with an empty string\n",
        "train_df['Phrase'].fillna('', inplace=True)\n",
        "test_df['Phrase'].fillna('', inplace=True)\n"
      ],
      "metadata": {
        "id": "O3gBARNxxtBE"
      },
      "execution_count": null,
      "outputs": []
    },
    {
      "cell_type": "code",
      "source": [
        "\n",
        "\n",
        "# Preprocessing function\n",
        "def preprocess_text(text):\n",
        "    text = remove_stopwords(text)  # Remove stop words\n",
        "    tokens = simple_preprocess(text)  # Tokenize and clean\n",
        "    return tokens\n",
        "\n",
        "# Apply preprocessing\n",
        "train_df['tokens'] = train_df['Phrase'].apply(preprocess_text)\n",
        "test_df['tokens'] = test_df['Phrase'].apply(preprocess_text)\n"
      ],
      "metadata": {
        "id": "Tzn03Dooxze9"
      },
      "execution_count": null,
      "outputs": []
    },
    {
      "cell_type": "code",
      "source": [
        "print(train_df[['Phrase', 'tokens']].head())\n",
        "print(test_df[['Phrase', 'tokens']].head())\n"
      ],
      "metadata": {
        "colab": {
          "base_uri": "https://localhost:8080/"
        },
        "id": "Oxh5CUu_x6Oe",
        "outputId": "0fcccecc-c305-489c-d9c7-4bbb16ad5595"
      },
      "execution_count": null,
      "outputs": [
        {
          "output_type": "stream",
          "name": "stdout",
          "text": [
            "                                              Phrase  \\\n",
            "0  A series of escapades demonstrating the adage ...   \n",
            "1  A series of escapades demonstrating the adage ...   \n",
            "2                                           A series   \n",
            "3                                                  A   \n",
            "4                                             series   \n",
            "\n",
            "                                              tokens  \n",
            "0  [series, escapades, demonstrating, adage, good...  \n",
            "1  [series, escapades, demonstrating, adage, good...  \n",
            "2                                           [series]  \n",
            "3                                                 []  \n",
            "4                                           [series]  \n",
            "                                              Phrase  \\\n",
            "0  An intermittently pleasing but mostly routine ...   \n",
            "1  An intermittently pleasing but mostly routine ...   \n",
            "2                                                 An   \n",
            "3  intermittently pleasing but mostly routine effort   \n",
            "4         intermittently pleasing but mostly routine   \n",
            "\n",
            "                                            tokens  \n",
            "0  [an, intermittently, pleasing, routine, effort]  \n",
            "1  [an, intermittently, pleasing, routine, effort]  \n",
            "2                                             [an]  \n",
            "3      [intermittently, pleasing, routine, effort]  \n",
            "4              [intermittently, pleasing, routine]  \n"
          ]
        }
      ]
    },
    {
      "cell_type": "code",
      "source": [
        "from gensim.models import Word2Vec\n",
        "\n",
        "# Create a list of tokenized sentences\n",
        "sentences = train_df['tokens'].tolist() + test_df['tokens'].tolist()\n",
        "\n",
        "# Train Word2Vec model\n",
        "word2vec_model = Word2Vec(sentences, vector_size=300, window=5, min_count=1, workers=4)\n",
        "\n",
        "# Save the model\n",
        "word2vec_model.save('word2vec.model')\n"
      ],
      "metadata": {
        "id": "1VGq5b1JyUvd"
      },
      "execution_count": null,
      "outputs": []
    },
    {
      "cell_type": "code",
      "source": [
        "from gensim.models import Word2Vec\n",
        "\n",
        "# Load pre-trained Word2Vec model (replace with your file path)\n",
        "word2vec_model = Word2Vec.load('word2vec.model')\n"
      ],
      "metadata": {
        "id": "yk-ycoHsybFH"
      },
      "execution_count": null,
      "outputs": []
    },
    {
      "cell_type": "code",
      "source": [
        "import numpy as np\n",
        "\n",
        "# Create embedding matrix\n",
        "embedding_dim = 300\n",
        "word_index = {word: i for i, word in enumerate(word2vec_model.wv.index_to_key)}\n",
        "embedding_matrix = np.zeros((len(word_index) + 1, embedding_dim))\n",
        "\n",
        "for word, i in word_index.items():\n",
        "    if word in word2vec_model.wv:\n",
        "        embedding_matrix[i] = word2vec_model.wv[word]\n"
      ],
      "metadata": {
        "id": "SzLWcVBRy5MV"
      },
      "execution_count": null,
      "outputs": []
    },
    {
      "cell_type": "code",
      "source": [
        "from tensorflow.keras.preprocessing.text import Tokenizer\n",
        "from tensorflow.keras.preprocessing.sequence import pad_sequences\n",
        "from tensorflow.keras.utils import to_categorical\n",
        "\n",
        "# Flatten tokens into a single list for tokenizer\n",
        "all_tokens = train_df['tokens'].tolist() + test_df['tokens'].tolist()\n",
        "all_tokens_flat = [word for tokens in all_tokens for word in tokens]\n",
        "\n",
        "# Initialize tokenizer\n",
        "tokenizer = Tokenizer()\n",
        "tokenizer.fit_on_texts(all_tokens_flat)\n",
        "\n",
        "# Convert text to sequences\n",
        "X_train = tokenizer.texts_to_sequences(train_df['tokens'])\n",
        "X_test = tokenizer.texts_to_sequences(test_df['tokens'])\n",
        "\n",
        "# Pad sequences\n",
        "max_len = max([len(x) for x in X_train])  # Find the maximum length\n",
        "X_train_padded = pad_sequences(X_train, maxlen=max_len)\n",
        "X_test_padded = pad_sequences(X_test, maxlen=max_len)\n",
        "\n",
        "# Prepare labels\n",
        "y_train = to_categorical(train_df['Sentiment'])\n"
      ],
      "metadata": {
        "id": "6cMR-9r0y871"
      },
      "execution_count": null,
      "outputs": []
    },
    {
      "cell_type": "code",
      "source": [
        "import tensorflow as tf\n",
        "from tensorflow.keras.models import Sequential\n",
        "from tensorflow.keras.layers import Embedding, LSTM, Dense\n",
        "\n",
        "# Define the model\n",
        "model = Sequential()\n",
        "model.add(Embedding(input_dim=len(word_index) + 1, output_dim=embedding_dim, weights=[embedding_matrix], input_length=max_len, trainable=False))\n",
        "model.add(LSTM(128, return_sequences=True))\n",
        "model.add(LSTM(64))\n",
        "model.add(Dense(5, activation='softmax'))  # Adjust to match sentiment classes\n",
        "\n",
        "# Compile the model\n",
        "model.compile(optimizer='adam', loss='categorical_crossentropy', metrics=['accuracy'])\n",
        "\n",
        "# Train the model\n",
        "history = model.fit(X_train_padded, y_train, epochs=5, batch_size=64, validation_split=0.2)\n"
      ],
      "metadata": {
        "colab": {
          "base_uri": "https://localhost:8080/"
        },
        "id": "-1u2XBCHzDJl",
        "outputId": "33a28da9-7580-4faf-8569-368577c7c748"
      },
      "execution_count": null,
      "outputs": [
        {
          "output_type": "stream",
          "name": "stdout",
          "text": [
            "Epoch 1/5\n",
            "1951/1951 [==============================] - 237s 119ms/step - loss: 1.1744 - accuracy: 0.5322 - val_loss: 1.1836 - val_accuracy: 0.5223\n",
            "Epoch 2/5\n",
            "1951/1951 [==============================] - 226s 116ms/step - loss: 1.1201 - accuracy: 0.5552 - val_loss: 1.1748 - val_accuracy: 0.5305\n",
            "Epoch 3/5\n",
            "1951/1951 [==============================] - 226s 116ms/step - loss: 1.0754 - accuracy: 0.5760 - val_loss: 1.1637 - val_accuracy: 0.5341\n",
            "Epoch 4/5\n",
            "1951/1951 [==============================] - 248s 127ms/step - loss: 1.0334 - accuracy: 0.5926 - val_loss: 1.1950 - val_accuracy: 0.5301\n",
            "Epoch 5/5\n",
            "1951/1951 [==============================] - 225s 115ms/step - loss: 0.9957 - accuracy: 0.6081 - val_loss: 1.1948 - val_accuracy: 0.5263\n"
          ]
        }
      ]
    },
    {
      "cell_type": "code",
      "source": [
        "# Evaluate the model\n",
        "loss, accuracy = model.evaluate(X_train_padded, y_train)\n",
        "print(f\"Loss: {loss}, Accuracy: {accuracy}\")\n",
        "\n",
        "# Predict sentiments\n",
        "predictions = model.predict(X_test_padded)\n",
        "predicted_classes = np.argmax(predictions, axis=1)\n",
        "\n",
        "# Create a DataFrame for submission\n",
        "submission_df = pd.DataFrame({\n",
        "    'PhraseId': test_df['PhraseId'],\n",
        "    'Sentiment': predicted_classes\n",
        "})\n",
        "\n",
        "submission_df.to_csv('submission.csv', index=False)\n"
      ],
      "metadata": {
        "colab": {
          "base_uri": "https://localhost:8080/"
        },
        "id": "1ThsWpiU4fOr",
        "outputId": "ed25e28a-bce2-490a-d079-1574035a4875"
      },
      "execution_count": null,
      "outputs": [
        {
          "output_type": "stream",
          "name": "stdout",
          "text": [
            "4877/4877 [==============================] - 148s 30ms/step - loss: 1.0035 - accuracy: 0.6083\n",
            "Loss: 1.0035053491592407, Accuracy: 0.6083173155784607\n",
            "2072/2072 [==============================] - 61s 29ms/step\n"
          ]
        }
      ]
    },
    {
      "cell_type": "markdown",
      "source": [
        "The model is giving descent accuracy. We may have better accuracy if we do more epochs."
      ],
      "metadata": {
        "id": "YqmQCmaKlaSI"
      }
    }
  ]
}